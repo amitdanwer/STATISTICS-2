{
 "cells": [
  {
   "cell_type": "code",
   "execution_count": null,
   "metadata": {},
   "outputs": [],
   "source": [
    "#Two balls are drawn at random in succession without replacement from an urn\n",
    "#containing 4 red balls and 6 black balls.\n",
    "#Find the probabilities of all the possible outcomes."
   ]
  },
  {
   "cell_type": "code",
   "execution_count": null,
   "metadata": {},
   "outputs": [],
   "source": [
    "4 Red, 6 Black\n",
    "Total Events = 10C2\n",
    "Event -  getting first ball red  = 4C1\n",
    "Event -  getting second ball red = 3C1\n",
    "Event -  getting first ball black = 6C1\n",
    "Event -  getting second ball black = 5C1\n",
    "\n",
    "\n",
    "\n",
    "Probability of :\n",
    "    \n",
    "Both red balls\n",
    "---------------\n",
    "(4C1*3C1)/10C2\n",
    "\n",
    "= (4*3)/(45)\n",
    "= 4/15\n",
    "\n",
    "Both black balls\n",
    "----------------\n",
    "(6C1*5C1)/10C2\n",
    "\n",
    "= (6*5)/(45)\n",
    "= 2/3\n",
    "one red one black\n",
    "-----------------\n",
    "(4C1*6C1)/10C2\n",
    "\n",
    "= (4*6)/(45)\n",
    "= 8/15\n"
   ]
  },
  {
   "cell_type": "code",
   "execution_count": null,
   "metadata": {},
   "outputs": [],
   "source": []
  },
  {
   "cell_type": "code",
   "execution_count": null,
   "metadata": {},
   "outputs": [],
   "source": []
  }
 ],
 "metadata": {
  "kernelspec": {
   "display_name": "Python 3",
   "language": "python",
   "name": "python3"
  },
  "language_info": {
   "codemirror_mode": {
    "name": "ipython",
    "version": 3
   },
   "file_extension": ".py",
   "mimetype": "text/x-python",
   "name": "python",
   "nbconvert_exporter": "python",
   "pygments_lexer": "ipython3",
   "version": "3.6.4"
  }
 },
 "nbformat": 4,
 "nbformat_minor": 2
}
